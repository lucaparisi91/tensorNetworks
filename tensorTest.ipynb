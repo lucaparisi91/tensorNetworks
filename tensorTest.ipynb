{
 "cells": [
  {
   "cell_type": "code",
   "execution_count": 2,
   "metadata": {},
   "outputs": [
    {
     "data": {
      "text/plain": [
       "<module 'tensor' from '/home/luca/source/tensor/tensor.py'>"
      ]
     },
     "execution_count": 2,
     "metadata": {},
     "output_type": "execute_result"
    }
   ],
   "source": [
    "from importlib import reload\n",
    "import tensor\n",
    "import numpy as np\n",
    "import copy\n",
    "import matplotlib.pylab as plt\n",
    "reload(tensor)"
   ]
  },
  {
   "cell_type": "markdown",
   "metadata": {},
   "source": [
    "## Ising model\n",
    "Test dmrg on the ising model hamiltonian"
   ]
  },
  {
   "cell_type": "code",
   "execution_count": null,
   "metadata": {},
   "outputs": [],
   "source": [
    "## Define the MPO for the Ising model in a transverse field"
   ]
  },
  {
   "cell_type": "code",
   "execution_count": 3,
   "metadata": {
    "code_folding": [
     0,
     38,
     44,
     48
    ]
   },
   "outputs": [],
   "source": [
    "def mpoMatricesIsingModel(J=1,omega=0.1):\n",
    "    sigmaz=np.array([[1,0],[0,-1]])\n",
    "    sigmax=np.array([[0,1],[1,0]])\n",
    "    # central matrix\n",
    "    O=np.zeros(shape=(8,8))\n",
    "    O[0:2,0:2]=np.identity(2)\n",
    "    O[2:2+2,0:2]=sigmaz\n",
    "    O[4:6,0:2]=sigmax\n",
    "    O[6:8,0:2]=-omega*sigmax\n",
    "    O[6:8,2:4]=J*sigmaz\n",
    "    O[6:8,6:8]=np.identity(2)\n",
    "    # right vector\n",
    "    R=np.zeros(shape=(8,2))\n",
    "    \n",
    "    R[0:2,]=np.identity(2)\n",
    "    R[2:4,]=sigmaz\n",
    "    R[4:6]=sigmax\n",
    "    R[6:8]=-omega*sigmax\n",
    "    \n",
    "    # left vector\n",
    "    L=np.zeros(shape=(2,8))    \n",
    "    L[:,0:2]=-omega*sigmax\n",
    "    L[:,2:4]=J*sigmaz\n",
    "    L[:,6:8]=np.identity(2)\n",
    "    \n",
    "    R=R.reshape((4,2,2))\n",
    "    L=L.reshape((2,4,2))\n",
    "    O=O.reshape(4,2,4,2)\n",
    "    \n",
    "    \n",
    "    L2=np.zeros((4,2,4,2))\n",
    "    L2[0,:,:,:]=L\n",
    "\n",
    "   \n",
    "    R2=np.zeros((4,2,4,2))\n",
    "    R2[:,:,-1,:]=R\n",
    "    \n",
    "    return (L2,O,R2)    \n",
    "def createMpoFromMatrices(L,O,R,nSites=10):\n",
    "    d=O.shape[1]\n",
    "    D=O.shape[0]\n",
    "    op=tensor.mpo(siteDimension=d,bondDimension=D,nSites=nSites)\n",
    "    op[0].tensor.data=copy.deepcopy(L)\n",
    "    op[nSites-1].tensor.data=copy.deepcopy(R)\n",
    "    for i in range(1,nSites-1):\n",
    "        op[i].tensor.data=copy.deepcopy(O)\n",
    "        \n",
    "    return op\n",
    "def createIsingModelMpo(nSites=10,J=-1,omega=0.1):\n",
    "    L,O,R=mpoMatricesIsingModel(J=J,omega=omega)\n",
    "    op=createMpoFromMatrices(L,O,R,nSites=nSites)\n",
    "    return op\n",
    "L,O,R=mpoMatricesIsingModel(J=1,omega=0)"
   ]
  },
  {
   "cell_type": "code",
   "execution_count": 5,
   "metadata": {},
   "outputs": [
    {
     "name": "stdout",
     "output_type": "stream",
     "text": [
      "Energy: (-0.19251090253034464-1.2669543765690532e-16j)\n",
      "Energy: (-0.6499401774771577+7.885177258451162e-17j)\n",
      "Energy: (-18.999072352228275+2.614846387148788e-15j)\n",
      "Energy: (-18.999545351493797-1.8011473622180305e-15j)\n",
      "Energy: (-19.00000000000008+2.605445402433769e-15j)\n",
      "Energy: (-19.000000000000085+4.249543261545233e-15j)\n",
      "Energy: (-19.00000000000016-3.8846688608673434e-16j)\n",
      "Energy: (-19.000000000000107-5.397781681174882e-15j)\n",
      "Energy: (-19.000000000000227-1.0462281459348025e-15j)\n",
      "Energy: (-19.000000000000018-5.433558348655226e-15j)\n",
      "Energy: (-19.00000000000004-6.9632565346097325e-15j)\n",
      "Energy: (-19.000000000000124+1.2810445791186593e-15j)\n",
      "Energy: (-19.000000000000007+6.238597405758925e-15j)\n",
      "Energy: (-19.000000000000156+1.3387192302300846e-15j)\n",
      "Energy: (-18.99999842057497+4.816392362697057e-15j)\n",
      "Energy: (-18.986251994391584-9.297579207668437e-16j)\n",
      "Energy: (-18.990595487283425+9.71448187694467e-15j)\n",
      "Energy: (-18.999813054048715+1.1569886088799639e-14j)\n",
      "Energy: (-18.99999939492417+9.835196842176965e-15j)\n",
      "Energy: (-18.99999999061616-2.4226826629723495e-15j)\n"
     ]
    }
   ],
   "source": [
    "reload(tensor)\n",
    "d=2\n",
    "D=20\n",
    "L=20\n",
    "\n",
    "state=tensor.mps(siteDimension=d,bondDimension=D,nSites=L)\n",
    "state.orthogonalize()\n",
    "state.normalize()\n",
    "op=createIsingModelMpo(nSites=L,J=-1,omega=0)\n",
    "Heff=tensor.effectiveHamiltonian(mpsState=state,mpoOp=op)\n",
    "es=Heff.optimize(n=4,outSteps=10)"
   ]
  },
  {
   "cell_type": "code",
   "execution_count": null,
   "metadata": {},
   "outputs": [],
   "source": [
    "%matplotlib notebook\n",
    "plt.plot(range(len(es)),es,\"or\")"
   ]
  },
  {
   "cell_type": "code",
   "execution_count": null,
   "metadata": {},
   "outputs": [],
   "source": []
  }
 ],
 "metadata": {
  "kernelspec": {
   "display_name": "Python 3",
   "language": "python",
   "name": "python3"
  },
  "language_info": {
   "codemirror_mode": {
    "name": "ipython",
    "version": 3
   },
   "file_extension": ".py",
   "mimetype": "text/x-python",
   "name": "python",
   "nbconvert_exporter": "python",
   "pygments_lexer": "ipython3",
   "version": "3.7.5"
  },
  "toc": {
   "base_numbering": 1,
   "nav_menu": {},
   "number_sections": true,
   "sideBar": true,
   "skip_h1_title": false,
   "title_cell": "Table of Contents",
   "title_sidebar": "Contents",
   "toc_cell": false,
   "toc_position": {},
   "toc_section_display": true,
   "toc_window_display": true
  }
 },
 "nbformat": 4,
 "nbformat_minor": 2
}
