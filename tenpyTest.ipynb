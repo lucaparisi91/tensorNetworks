{
 "cells": [
  {
   "cell_type": "code",
   "execution_count": 171,
   "metadata": {},
   "outputs": [],
   "source": [
    "import tenpy\n",
    "import numpy as np\n",
    "import matplotlib.pylab as plt\n",
    "import tenpy.linalg.np_conserved as np_c\n",
    "from math import *"
   ]
  },
  {
   "cell_type": "code",
   "execution_count": 173,
   "metadata": {},
   "outputs": [
    {
     "data": {
      "text/plain": [
       "LegCharge(ChargeInfo([100], ['']), qconj=+1,\n",
       "array([  0,  50, 100]), array([[0],\n",
       "       [1]]))"
      ]
     },
     "execution_count": 173,
     "metadata": {},
     "output_type": "execute_result"
    }
   ],
   "source": [
    "N=100\n",
    "cInfo=tenpy.linalg.charges.ChargeInfo(mod=[N])\n",
    "leg0=tenpy.linalg.charges.LegCharge(cInfo,slices=[0,100],charges=[[0]],qconj=-1)\n",
    "leg1=tenpy.linalg.charges.LegCharge(cInfo,slices=[0,2,4],charges=[[0],[1]],qconj=-1)\n",
    "leg2=tenpy.linalg.charges.LegCharge(cInfo,slices=[0,50,100],charges=[[0],[1]],qconj=1)\n",
    "T=tenpy.linalg.np_conserved.Array([leg0,leg1,leg2])\n",
    "T[0:100,0:2,0:50]=np.random.random(size=(100,2,50))\n",
    "T[0:100,2:4,50:100]=np.random.random(size=(100,2,50))\n",
    "T2=T.combine_legs([0,1],qconj=-1)\n",
    "U,S,V=np_c.svd(T2)\n",
    "U=U.gauge_total_charge(1, newqtotal=None, new_qconj=1)\n",
    "V=V.gauge_total_charge(0, newqtotal=None, new_qconj=-1)\n",
    "S=np_c.diag(S,leg=V.legs[0])\n",
    "np_c"
   ]
  },
  {
   "cell_type": "code",
   "execution_count": null,
   "metadata": {},
   "outputs": [],
   "source": [
    "def shitOrothogonalityCenter(A,B):\n",
    "    "
   ]
  },
  {
   "cell_type": "code",
   "execution_count": null,
   "metadata": {},
   "outputs": [],
   "source": []
  }
 ],
 "metadata": {
  "kernelspec": {
   "display_name": "Python 3",
   "language": "python",
   "name": "python3"
  },
  "language_info": {
   "codemirror_mode": {
    "name": "ipython",
    "version": 3
   },
   "file_extension": ".py",
   "mimetype": "text/x-python",
   "name": "python",
   "nbconvert_exporter": "python",
   "pygments_lexer": "ipython3",
   "version": "3.7.5"
  },
  "toc": {
   "base_numbering": 1,
   "nav_menu": {},
   "number_sections": true,
   "sideBar": true,
   "skip_h1_title": false,
   "title_cell": "Table of Contents",
   "title_sidebar": "Contents",
   "toc_cell": false,
   "toc_position": {},
   "toc_section_display": true,
   "toc_window_display": true
  }
 },
 "nbformat": 4,
 "nbformat_minor": 2
}
